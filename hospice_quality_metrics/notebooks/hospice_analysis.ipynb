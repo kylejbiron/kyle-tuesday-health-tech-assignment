{
 "cells": [
  {
   "cell_type": "markdown",
   "metadata": {},
   "source": [
    "# Tuesday Health: Hospice Quality Metrics Technical Assessment\n",
    "Author: Kyle Biron  "
   ]
  },
  {
   "cell_type": "markdown",
   "metadata": {},
   "source": [
    "### Imports"
   ]
  },
  {
   "cell_type": "code",
   "execution_count": 82,
   "metadata": {},
   "outputs": [],
   "source": [
    "import duckdb\n",
    "import numpy\n",
    "import pandas as pd\n",
    "from pprint import pprint\n",
    "import seaborn as sns\n",
    "import matplotlib.pyplot as plt\n",
    "from scipy.stats import spearmanr\n",
    "\n",
    "# configure pandas to show full string values and all rows/columns\n",
    "pd.set_option('display.max_colwidth', None)\n",
    "pd.set_option('display.max_rows', None)\n",
    "pd.set_option('display.max_columns', None)\n",
    "pd.set_option('display.width', 1000)"
   ]
  },
  {
   "cell_type": "markdown",
   "metadata": {},
   "source": [
    "### Connect to db"
   ]
  },
  {
   "cell_type": "code",
   "execution_count": 83,
   "metadata": {},
   "outputs": [
    {
     "name": "stdout",
     "output_type": "stream",
     "text": [
      "                                              name\n",
      "0                  fact_hospice_provider_flattened\n",
      "1  fact_hospice_provider_missing_metrics_by_region\n",
      "2                             stg_hospice_provider\n"
     ]
    }
   ],
   "source": [
    "# set duckdb directory path\n",
    "db_dir = \"/Users/kyle/Documents/personal_projects/repos/kyle-tuesday-health-tech-assignment/hospice_quality_metrics/db\"\n",
    "\n",
    "# connect to an existing duckdb database\n",
    "con = duckdb.connect(f'{db_dir}/hospice_quality_metrics.db')\n",
    "\n",
    "# list and print all tables in the connected duckdb database\n",
    "tables = con.execute(\"SHOW TABLES\").df()\n",
    "print(tables)"
   ]
  },
  {
   "cell_type": "markdown",
   "metadata": {},
   "source": [
    "### 1. Correlation Analysis: HIS Composite Process Metric & HCI Decile"
   ]
  },
  {
   "cell_type": "markdown",
   "metadata": {},
   "source": [
    "#### load ```fact_hospice_provider_flattened``` to a df\n",
    "\n",
    "- ```fact_hospice_provider_flattened``` is the flattened table from ```hospice_quality_metrics.db``` \n",
    "    - ```h_008_01_observed_score``` is the HIS Composite Measure\n",
    "    - ```h_012_00_observed_score``` is the HCI Decile\n",
    "- This dataframe will be used for the correlation analysis between the two measures\n",
    "- Note that ```fact_hospice_provider_flattened``` only contains the CCNs that have BOTH measures populated\n",
    "    - A side-analyis (see appendix) shows that out of the 7132 CCNs, **2765 (or ~39%)** of CCNs were excluded for this correlation analysis\n",
    "    - CMS Region 9 (San Francisco: Arizona, California, Hawaii, Nevada, Pacific\n",
    "Territories) was primarily impacted with this exclusion, as **63.36%** of their CCNs were missing at least one measure "
   ]
  },
  {
   "cell_type": "code",
   "execution_count": 39,
   "metadata": {},
   "outputs": [
    {
     "data": {
      "text/html": [
       "<div>\n",
       "<style scoped>\n",
       "    .dataframe tbody tr th:only-of-type {\n",
       "        vertical-align: middle;\n",
       "    }\n",
       "\n",
       "    .dataframe tbody tr th {\n",
       "        vertical-align: top;\n",
       "    }\n",
       "\n",
       "    .dataframe thead th {\n",
       "        text-align: right;\n",
       "    }\n",
       "</style>\n",
       "<table border=\"1\" class=\"dataframe\">\n",
       "  <thead>\n",
       "    <tr style=\"text-align: right;\">\n",
       "      <th></th>\n",
       "      <th>ccn</th>\n",
       "      <th>cms_region</th>\n",
       "      <th>h_008_01_observed_score</th>\n",
       "      <th>h_012_00_observed_score</th>\n",
       "      <th>h_008_01_observed_footnote</th>\n",
       "      <th>h_012_00_observed_footnote</th>\n",
       "    </tr>\n",
       "  </thead>\n",
       "  <tbody>\n",
       "    <tr>\n",
       "      <th>0</th>\n",
       "      <td>331532</td>\n",
       "      <td>2</td>\n",
       "      <td>97.4</td>\n",
       "      <td>9.0</td>\n",
       "      <td>None</td>\n",
       "      <td>None</td>\n",
       "    </tr>\n",
       "    <tr>\n",
       "      <th>1</th>\n",
       "      <td>331535</td>\n",
       "      <td>2</td>\n",
       "      <td>99.7</td>\n",
       "      <td>9.0</td>\n",
       "      <td>None</td>\n",
       "      <td>None</td>\n",
       "    </tr>\n",
       "    <tr>\n",
       "      <th>2</th>\n",
       "      <td>331537</td>\n",
       "      <td>2</td>\n",
       "      <td>77.0</td>\n",
       "      <td>9.0</td>\n",
       "      <td>None</td>\n",
       "      <td>None</td>\n",
       "    </tr>\n",
       "    <tr>\n",
       "      <th>3</th>\n",
       "      <td>331540</td>\n",
       "      <td>2</td>\n",
       "      <td>92.1</td>\n",
       "      <td>10.0</td>\n",
       "      <td>None</td>\n",
       "      <td>None</td>\n",
       "    </tr>\n",
       "    <tr>\n",
       "      <th>4</th>\n",
       "      <td>331542</td>\n",
       "      <td>2</td>\n",
       "      <td>97.3</td>\n",
       "      <td>9.0</td>\n",
       "      <td>None</td>\n",
       "      <td>None</td>\n",
       "    </tr>\n",
       "  </tbody>\n",
       "</table>\n",
       "</div>"
      ],
      "text/plain": [
       "      ccn  cms_region  h_008_01_observed_score  h_012_00_observed_score h_008_01_observed_footnote h_012_00_observed_footnote\n",
       "0  331532           2                     97.4                      9.0                       None                       None\n",
       "1  331535           2                     99.7                      9.0                       None                       None\n",
       "2  331537           2                     77.0                      9.0                       None                       None\n",
       "3  331540           2                     92.1                     10.0                       None                       None\n",
       "4  331542           2                     97.3                      9.0                       None                       None"
      ]
     },
     "execution_count": 39,
     "metadata": {},
     "output_type": "execute_result"
    }
   ],
   "source": [
    "# use con.execute() to create a df\n",
    "fact_hospice_provider_flattened_df = con.execute(\"SELECT * FROM fact_hospice_provider_flattened\").df()\n",
    "\n",
    "# preview the df\n",
    "fact_hospice_provider_flattened_df.head(5)"
   ]
  },
  {
   "cell_type": "code",
   "execution_count": 46,
   "metadata": {},
   "outputs": [
    {
     "data": {
      "text/html": [
       "<div>\n",
       "<style scoped>\n",
       "    .dataframe tbody tr th:only-of-type {\n",
       "        vertical-align: middle;\n",
       "    }\n",
       "\n",
       "    .dataframe tbody tr th {\n",
       "        vertical-align: top;\n",
       "    }\n",
       "\n",
       "    .dataframe thead th {\n",
       "        text-align: right;\n",
       "    }\n",
       "</style>\n",
       "<table border=\"1\" class=\"dataframe\">\n",
       "  <thead>\n",
       "    <tr style=\"text-align: right;\">\n",
       "      <th></th>\n",
       "      <th>count(DISTINCT ccn)</th>\n",
       "    </tr>\n",
       "  </thead>\n",
       "  <tbody>\n",
       "    <tr>\n",
       "      <th>0</th>\n",
       "      <td>7132</td>\n",
       "    </tr>\n",
       "  </tbody>\n",
       "</table>\n",
       "</div>"
      ],
      "text/plain": [
       "   count(DISTINCT ccn)\n",
       "0                 7132"
      ]
     },
     "execution_count": 46,
     "metadata": {},
     "output_type": "execute_result"
    }
   ],
   "source": [
    "minus_query = '''\n",
    "select count(distinct ccn) from stg_hospice_provider\n",
    "'''\n",
    "\n",
    "con.execute(minus_query).df()"
   ]
  },
  {
   "cell_type": "markdown",
   "metadata": {},
   "source": [
    "#### Examining the distribution of HIS Composite Measure and HCI Decile\n",
    "\n",
    "- The plots below display the distribution for both measures\n",
    "- Both measures appear right-skewed, with most of the CCNs \"appearing\" to perform well on both measures"
   ]
  },
  {
   "cell_type": "code",
   "execution_count": 30,
   "metadata": {},
   "outputs": [
    {
     "data": {
      "image/png": "[encoded data removed]",
      "text/plain": [
       "<Figure size 1200x600 with 2 Axes>"
      ]
     },
     "metadata": {},
     "output_type": "display_data"
    }
   ],
   "source": [
    "# configure subplots\n",
    "fig, axes = plt.subplots(1, 2, figsize=(12, 6))\n",
    "\n",
    "# HIS Composite Measure plot\n",
    "sns.histplot(data=fact_hospice_provider_flattened_df, x=\"h_008_01_observed_score\", kde=True, ax=axes[0])\n",
    "axes[0].set_title('Distribution of HIS Composite Measure')\n",
    "\n",
    "# HCI Decile plot\n",
    "sns.histplot(data=fact_hospice_provider_flattened_df, x=\"h_012_00_observed_score\", kde=True, ax=axes[1])\n",
    "axes[1].set_title('Distribution of HCI Decile')\n",
    "\n",
    "# show plots\n",
    "plt.tight_layout()\n",
    "plt.show()"
   ]
  },
  {
   "cell_type": "code",
   "execution_count": 31,
   "metadata": {},
   "outputs": [
    {
     "name": "stdout",
     "output_type": "stream",
     "text": [
      "Correlation Matrix: Pearson\n",
      "                         h_008_01_observed_score  h_012_00_observed_score\n",
      "h_008_01_observed_score                 1.000000                 0.223246\n",
      "h_012_00_observed_score                 0.223246                 1.000000\n"
     ]
    }
   ],
   "source": [
    "# pearson correlation\n",
    "correlation_pearson = fact_hospice_provider_flattened_df[['h_008_01_observed_score', 'h_012_00_observed_score']].corr()\n",
    "\n",
    "print(\"Correlation Matrix: Pearson\")\n",
    "print(correlation_pearson)"
   ]
  },
  {
   "cell_type": "code",
   "execution_count": 32,
   "metadata": {},
   "outputs": [
    {
     "name": "stdout",
     "output_type": "stream",
     "text": [
      "Correlation Matrix: Spearman:\n",
      "                         h_008_01_observed_score  h_012_00_observed_score\n",
      "h_008_01_observed_score                 1.000000                 0.227345\n",
      "h_012_00_observed_score                 0.227345                 1.000000\n"
     ]
    }
   ],
   "source": [
    "# Spearman correlation\n",
    "correlation_spearman = fact_hospice_provider_flattened_df[['h_008_01_observed_score', 'h_012_00_observed_score']].corr(method='spearman')\n",
    "\n",
    "print(\"Correlation Matrix: Spearman:\")\n",
    "print(correlation_spearman)"
   ]
  },
  {
   "cell_type": "code",
   "execution_count": 33,
   "metadata": {},
   "outputs": [
    {
     "name": "stdout",
     "output_type": "stream",
     "text": [
      "                                    h_008_01_observed_score  h_012_00_observed_score\n",
      "cms_region                                                                          \n",
      "1          h_008_01_observed_score                 1.000000                 0.174107\n",
      "           h_012_00_observed_score                 0.174107                 1.000000\n",
      "2          h_008_01_observed_score                 1.000000                 0.205653\n",
      "           h_012_00_observed_score                 0.205653                 1.000000\n",
      "3          h_008_01_observed_score                 1.000000                 0.253217\n",
      "           h_012_00_observed_score                 0.253217                 1.000000\n",
      "4          h_008_01_observed_score                 1.000000                 0.044258\n",
      "           h_012_00_observed_score                 0.044258                 1.000000\n",
      "5          h_008_01_observed_score                 1.000000                 0.155562\n",
      "           h_012_00_observed_score                 0.155562                 1.000000\n",
      "6          h_008_01_observed_score                 1.000000                 0.231899\n",
      "           h_012_00_observed_score                 0.231899                 1.000000\n",
      "7          h_008_01_observed_score                 1.000000                 0.165660\n",
      "           h_012_00_observed_score                 0.165660                 1.000000\n",
      "8          h_008_01_observed_score                 1.000000                 0.175066\n",
      "           h_012_00_observed_score                 0.175066                 1.000000\n",
      "9          h_008_01_observed_score                 1.000000                 0.195625\n",
      "           h_012_00_observed_score                 0.195625                 1.000000\n",
      "10         h_008_01_observed_score                 1.000000                 0.284940\n",
      "           h_012_00_observed_score                 0.284940                 1.000000\n"
     ]
    }
   ],
   "source": [
    "correlation_spearman_by_region = fact_hospice_provider_flattened_df.groupby('cms_region')[\n",
    "    ['h_008_01_observed_score', 'h_012_00_observed_score']\n",
    "].corr(method='spearman')\n",
    "\n",
    "print(correlation_spearman_by_region)"
   ]
  },
  {
   "cell_type": "markdown",
   "metadata": {},
   "source": [
    "### Appendix"
   ]
  },
  {
   "cell_type": "markdown",
   "metadata": {},
   "source": [
    "####  CCNs without having both HIS and HCI by region"
   ]
  },
  {
   "cell_type": "code",
   "execution_count": 93,
   "metadata": {},
   "outputs": [
    {
     "data": {
      "text/plain": [
       "<Figure size 1000x600 with 0 Axes>"
      ]
     },
     "metadata": {},
     "output_type": "display_data"
    },
    {
     "data": {
      "image/png": "[encoded data removed]",
      "text/plain": [
       "<Figure size 1000x600 with 1 Axes>"
      ]
     },
     "metadata": {},
     "output_type": "display_data"
    }
   ],
   "source": [
    "# use con.execute() to create a df\n",
    "fact_hospice_provider_missing_metrics_by_region_df = con.execute(\"SELECT * FROM fact_hospice_provider_missing_metrics_by_region\").df()\n",
    "\n",
    "# sort df by cms_region\n",
    "fact_hospice_provider_missing_metrics_by_region_df = fact_hospice_provider_missing_metrics_by_region_df.sort_values('cms_region')\n",
    "\n",
    "# configure size\n",
    "plt.figure(figsize=(10, 6))\n",
    "\n",
    "# bar chart\n",
    "fact_hospice_provider_missing_metrics_by_region_df.plot(\n",
    "    kind='bar', \n",
    "    x='cms_region', \n",
    "    y=['percent_missing_his', 'percent_missing_hci', 'percent_missing_one_or_both_measures'], \n",
    "    figsize=(10, 6)\n",
    ")\n",
    "\n",
    "# configure title and labels\n",
    "plt.title('Percentage of Missing Metrics by Region')\n",
    "plt.xlabel('CMS Region')\n",
    "plt.ylabel('Percentage of Missing Metrics')\n",
    "\n",
    "# show plot\n",
    "plt.legend(title=\"Metrics\")\n",
    "plt.tight_layout()\n",
    "plt.show()"
   ]
  },
  {
   "cell_type": "code",
   "execution_count": 85,
   "metadata": {},
   "outputs": [
    {
     "data": {
      "text/html": [
       "<div>\n",
       "<style scoped>\n",
       "    .dataframe tbody tr th:only-of-type {\n",
       "        vertical-align: middle;\n",
       "    }\n",
       "\n",
       "    .dataframe tbody tr th {\n",
       "        vertical-align: top;\n",
       "    }\n",
       "\n",
       "    .dataframe thead th {\n",
       "        text-align: right;\n",
       "    }\n",
       "</style>\n",
       "<table border=\"1\" class=\"dataframe\">\n",
       "  <thead>\n",
       "    <tr style=\"text-align: right;\">\n",
       "      <th></th>\n",
       "      <th>cms_region</th>\n",
       "      <th>ccns_missing_his</th>\n",
       "      <th>ccns_missing_hci</th>\n",
       "      <th>ccns_missing_one_or_both_measures</th>\n",
       "      <th>total_ccn_count</th>\n",
       "      <th>percent_missing_his</th>\n",
       "      <th>percent_missing_hci</th>\n",
       "      <th>percent_missing_one_or_both_measures</th>\n",
       "    </tr>\n",
       "  </thead>\n",
       "  <tbody>\n",
       "    <tr>\n",
       "      <th>0</th>\n",
       "      <td>1</td>\n",
       "      <td>14</td>\n",
       "      <td>16</td>\n",
       "      <td>19</td>\n",
       "      <td>160</td>\n",
       "      <td>8.75</td>\n",
       "      <td>10.00</td>\n",
       "      <td>11.88</td>\n",
       "    </tr>\n",
       "    <tr>\n",
       "      <th>1</th>\n",
       "      <td>2</td>\n",
       "      <td>5</td>\n",
       "      <td>2</td>\n",
       "      <td>5</td>\n",
       "      <td>144</td>\n",
       "      <td>3.47</td>\n",
       "      <td>1.39</td>\n",
       "      <td>3.47</td>\n",
       "    </tr>\n",
       "    <tr>\n",
       "      <th>2</th>\n",
       "      <td>3</td>\n",
       "      <td>35</td>\n",
       "      <td>28</td>\n",
       "      <td>40</td>\n",
       "      <td>358</td>\n",
       "      <td>9.78</td>\n",
       "      <td>7.82</td>\n",
       "      <td>11.17</td>\n",
       "    </tr>\n",
       "    <tr>\n",
       "      <th>3</th>\n",
       "      <td>4</td>\n",
       "      <td>90</td>\n",
       "      <td>65</td>\n",
       "      <td>99</td>\n",
       "      <td>722</td>\n",
       "      <td>12.47</td>\n",
       "      <td>9.00</td>\n",
       "      <td>13.71</td>\n",
       "    </tr>\n",
       "    <tr>\n",
       "      <th>4</th>\n",
       "      <td>5</td>\n",
       "      <td>100</td>\n",
       "      <td>99</td>\n",
       "      <td>129</td>\n",
       "      <td>716</td>\n",
       "      <td>13.97</td>\n",
       "      <td>13.83</td>\n",
       "      <td>18.02</td>\n",
       "    </tr>\n",
       "    <tr>\n",
       "      <th>5</th>\n",
       "      <td>6</td>\n",
       "      <td>516</td>\n",
       "      <td>417</td>\n",
       "      <td>544</td>\n",
       "      <td>1414</td>\n",
       "      <td>36.49</td>\n",
       "      <td>29.49</td>\n",
       "      <td>38.47</td>\n",
       "    </tr>\n",
       "    <tr>\n",
       "      <th>6</th>\n",
       "      <td>7</td>\n",
       "      <td>21</td>\n",
       "      <td>23</td>\n",
       "      <td>31</td>\n",
       "      <td>324</td>\n",
       "      <td>6.48</td>\n",
       "      <td>7.10</td>\n",
       "      <td>9.57</td>\n",
       "    </tr>\n",
       "    <tr>\n",
       "      <th>7</th>\n",
       "      <td>8</td>\n",
       "      <td>44</td>\n",
       "      <td>36</td>\n",
       "      <td>51</td>\n",
       "      <td>249</td>\n",
       "      <td>17.67</td>\n",
       "      <td>14.46</td>\n",
       "      <td>20.48</td>\n",
       "    </tr>\n",
       "    <tr>\n",
       "      <th>8</th>\n",
       "      <td>9</td>\n",
       "      <td>1614</td>\n",
       "      <td>1575</td>\n",
       "      <td>1826</td>\n",
       "      <td>2882</td>\n",
       "      <td>56.00</td>\n",
       "      <td>54.65</td>\n",
       "      <td>63.36</td>\n",
       "    </tr>\n",
       "    <tr>\n",
       "      <th>9</th>\n",
       "      <td>10</td>\n",
       "      <td>18</td>\n",
       "      <td>20</td>\n",
       "      <td>21</td>\n",
       "      <td>163</td>\n",
       "      <td>11.04</td>\n",
       "      <td>12.27</td>\n",
       "      <td>12.88</td>\n",
       "    </tr>\n",
       "  </tbody>\n",
       "</table>\n",
       "</div>"
      ],
      "text/plain": [
       "   cms_region  ccns_missing_his  ccns_missing_hci  ccns_missing_one_or_both_measures  total_ccn_count  percent_missing_his  percent_missing_hci  percent_missing_one_or_both_measures\n",
       "0           1                14                16                                 19              160                 8.75                10.00                                 11.88\n",
       "1           2                 5                 2                                  5              144                 3.47                 1.39                                  3.47\n",
       "2           3                35                28                                 40              358                 9.78                 7.82                                 11.17\n",
       "3           4                90                65                                 99              722                12.47                 9.00                                 13.71\n",
       "4           5               100                99                                129              716                13.97                13.83                                 18.02\n",
       "5           6               516               417                                544             1414                36.49                29.49                                 38.47\n",
       "6           7                21                23                                 31              324                 6.48                 7.10                                  9.57\n",
       "7           8                44                36                                 51              249                17.67                14.46                                 20.48\n",
       "8           9              1614              1575                               1826             2882                56.00                54.65                                 63.36\n",
       "9          10                18                20                                 21              163                11.04                12.27                                 12.88"
      ]
     },
     "execution_count": 85,
     "metadata": {},
     "output_type": "execute_result"
    }
   ],
   "source": [
    "adhoc_query = '''\n",
    "\n",
    "select \n",
    "        *\n",
    "    from fact_hospice_provider_missing_metrics_by_region\n",
    "    order by 1\n",
    "\n",
    "'''\n",
    "\n",
    "con.execute(adhoc_query).df()"
   ]
  },
  {
   "cell_type": "code",
   "execution_count": 81,
   "metadata": {},
   "outputs": [],
   "source": [
    "con.close()"
   ]
  },
  {
   "cell_type": "markdown",
   "metadata": {},
   "source": []
  }
 ],
 "metadata": {
  "kernelspec": {
   "display_name": "Python 3",
   "language": "python",
   "name": "python3"
  },
  "language_info": {
   "codemirror_mode": {
    "name": "ipython",
    "version": 3
   },
   "file_extension": ".py",
   "mimetype": "text/x-python",
   "name": "python",
   "nbconvert_exporter": "python",
   "pygments_lexer": "ipython3",
   "version": "3.12.6"
  }
 },
 "nbformat": 4,
 "nbformat_minor": 2
}

{
 "cells": [
  {
   "cell_type": "markdown",
   "metadata": {},
   "source": [
    "# Tuesday Health: Hospice Quality Metrics Technical Assessment\n",
    "Author: Kyle Biron  "
   ]
  },
  {
   "cell_type": "markdown",
   "metadata": {},
   "source": [
    "### Imports"
   ]
  },
  {
   "cell_type": "code",
   "execution_count": 2,
   "metadata": {},
   "outputs": [],
   "source": [
    "import duckdb\n",
    "import numpy\n",
    "import pandas as pd\n",
    "from pprint import pprint\n",
    "import seaborn as sns\n",
    "import matplotlib.pyplot as plt\n",
    "\n",
    "# configure pandas to show full string values and all rows/columns\n",
    "pd.set_option('display.max_colwidth', None)\n",
    "pd.set_option('display.max_rows', None)\n",
    "pd.set_option('display.max_columns', None)\n",
    "pd.set_option('display.width', 1000)"
   ]
  },
  {
   "cell_type": "markdown",
   "metadata": {},
   "source": [
    "### Connect to db"
   ]
  },
  {
   "cell_type": "code",
   "execution_count": 3,
   "metadata": {},
   "outputs": [
    {
     "name": "stdout",
     "output_type": "stream",
     "text": [
      "                              name\n",
      "0  fact_hospice_provider_flattened\n",
      "1             stg_hospice_provider\n"
     ]
    }
   ],
   "source": [
    "# set duckdb directory path\n",
    "db_dir = \"/Users/kyle/Documents/personal_projects/repos/kyle-tuesday-health-tech-assignment/hospice_quality_metrics/db\"\n",
    "\n",
    "# connect to an existing duckdb database\n",
    "con = duckdb.connect(f'{db_dir}/hospice_quality_metrics.db')\n",
    "\n",
    "# list and print all tables in the connected duckdb database\n",
    "tables = con.execute(\"SHOW TABLES\").df()\n",
    "print(tables)"
   ]
  },
  {
   "cell_type": "code",
   "execution_count": 8,
   "metadata": {},
   "outputs": [
    {
     "data": {
      "text/html": [
       "<div>\n",
       "<style scoped>\n",
       "    .dataframe tbody tr th:only-of-type {\n",
       "        vertical-align: middle;\n",
       "    }\n",
       "\n",
       "    .dataframe tbody tr th {\n",
       "        vertical-align: top;\n",
       "    }\n",
       "\n",
       "    .dataframe thead th {\n",
       "        text-align: right;\n",
       "    }\n",
       "</style>\n",
       "<table border=\"1\" class=\"dataframe\">\n",
       "  <thead>\n",
       "    <tr style=\"text-align: right;\">\n",
       "      <th></th>\n",
       "      <th>ccn</th>\n",
       "      <th>facility_name</th>\n",
       "      <th>address_line_1</th>\n",
       "      <th>address_line_2</th>\n",
       "      <th>city_town</th>\n",
       "      <th>State</th>\n",
       "      <th>zip_code</th>\n",
       "      <th>county_parish</th>\n",
       "      <th>telephone_number</th>\n",
       "      <th>cms_region</th>\n",
       "      <th>measure_code</th>\n",
       "      <th>measure_name</th>\n",
       "      <th>Score</th>\n",
       "      <th>Footnote</th>\n",
       "      <th>measure_date_range</th>\n",
       "      <th>measure_from_date</th>\n",
       "      <th>measure_end_date</th>\n",
       "    </tr>\n",
       "  </thead>\n",
       "  <tbody>\n",
       "    <tr>\n",
       "      <th>0</th>\n",
       "      <td>001500</td>\n",
       "      <td>AGAVE HOSPICE</td>\n",
       "      <td>3240 EAST UNION HILLS DRIVE SUITE 145 ROOM A</td>\n",
       "      <td>None</td>\n",
       "      <td>PHOENIX</td>\n",
       "      <td>AZ</td>\n",
       "      <td>85050</td>\n",
       "      <td>Maricopa</td>\n",
       "      <td>(602) 855-3500</td>\n",
       "      <td>9</td>\n",
       "      <td>H_001_01_DENOMINATOR</td>\n",
       "      <td>None</td>\n",
       "      <td>136</td>\n",
       "      <td>None</td>\n",
       "      <td>10/01/2022-09/30/2023</td>\n",
       "      <td>10/01/2022</td>\n",
       "      <td>09/30/2023</td>\n",
       "    </tr>\n",
       "    <tr>\n",
       "      <th>1</th>\n",
       "      <td>001500</td>\n",
       "      <td>AGAVE HOSPICE</td>\n",
       "      <td>3240 EAST UNION HILLS DRIVE SUITE 145 ROOM A</td>\n",
       "      <td>None</td>\n",
       "      <td>PHOENIX</td>\n",
       "      <td>AZ</td>\n",
       "      <td>85050</td>\n",
       "      <td>Maricopa</td>\n",
       "      <td>(602) 855-3500</td>\n",
       "      <td>9</td>\n",
       "      <td>H_001_01_OBSERVED</td>\n",
       "      <td>Hospice and Palliative Care Treatment Preferences</td>\n",
       "      <td>100.0</td>\n",
       "      <td>None</td>\n",
       "      <td>10/01/2022-09/30/2023</td>\n",
       "      <td>10/01/2022</td>\n",
       "      <td>09/30/2023</td>\n",
       "    </tr>\n",
       "    <tr>\n",
       "      <th>2</th>\n",
       "      <td>001500</td>\n",
       "      <td>AGAVE HOSPICE</td>\n",
       "      <td>3240 EAST UNION HILLS DRIVE SUITE 145 ROOM A</td>\n",
       "      <td>None</td>\n",
       "      <td>PHOENIX</td>\n",
       "      <td>AZ</td>\n",
       "      <td>85050</td>\n",
       "      <td>Maricopa</td>\n",
       "      <td>(602) 855-3500</td>\n",
       "      <td>9</td>\n",
       "      <td>H_002_01_DENOMINATOR</td>\n",
       "      <td>None</td>\n",
       "      <td>136</td>\n",
       "      <td>None</td>\n",
       "      <td>10/01/2022-09/30/2023</td>\n",
       "      <td>10/01/2022</td>\n",
       "      <td>09/30/2023</td>\n",
       "    </tr>\n",
       "    <tr>\n",
       "      <th>3</th>\n",
       "      <td>001500</td>\n",
       "      <td>AGAVE HOSPICE</td>\n",
       "      <td>3240 EAST UNION HILLS DRIVE SUITE 145 ROOM A</td>\n",
       "      <td>None</td>\n",
       "      <td>PHOENIX</td>\n",
       "      <td>AZ</td>\n",
       "      <td>85050</td>\n",
       "      <td>Maricopa</td>\n",
       "      <td>(602) 855-3500</td>\n",
       "      <td>9</td>\n",
       "      <td>H_002_01_OBSERVED</td>\n",
       "      <td>Beliefs &amp; Values Addressed (if desired by the patient)</td>\n",
       "      <td>100.0</td>\n",
       "      <td>None</td>\n",
       "      <td>10/01/2022-09/30/2023</td>\n",
       "      <td>10/01/2022</td>\n",
       "      <td>09/30/2023</td>\n",
       "    </tr>\n",
       "    <tr>\n",
       "      <th>4</th>\n",
       "      <td>001500</td>\n",
       "      <td>AGAVE HOSPICE</td>\n",
       "      <td>3240 EAST UNION HILLS DRIVE SUITE 145 ROOM A</td>\n",
       "      <td>None</td>\n",
       "      <td>PHOENIX</td>\n",
       "      <td>AZ</td>\n",
       "      <td>85050</td>\n",
       "      <td>Maricopa</td>\n",
       "      <td>(602) 855-3500</td>\n",
       "      <td>9</td>\n",
       "      <td>H_003_01_DENOMINATOR</td>\n",
       "      <td>None</td>\n",
       "      <td>136</td>\n",
       "      <td>None</td>\n",
       "      <td>10/01/2022-09/30/2023</td>\n",
       "      <td>10/01/2022</td>\n",
       "      <td>09/30/2023</td>\n",
       "    </tr>\n",
       "  </tbody>\n",
       "</table>\n",
       "</div>"
      ],
      "text/plain": [
       "      ccn  facility_name                                address_line_1 address_line_2 city_town State  zip_code county_parish telephone_number  cms_region          measure_code                                            measure_name  Score Footnote     measure_date_range measure_from_date measure_end_date\n",
       "0  001500  AGAVE HOSPICE  3240 EAST UNION HILLS DRIVE SUITE 145 ROOM A           None   PHOENIX    AZ     85050      Maricopa   (602) 855-3500           9  H_001_01_DENOMINATOR                                                    None    136     None  10/01/2022-09/30/2023        10/01/2022       09/30/2023\n",
       "1  001500  AGAVE HOSPICE  3240 EAST UNION HILLS DRIVE SUITE 145 ROOM A           None   PHOENIX    AZ     85050      Maricopa   (602) 855-3500           9     H_001_01_OBSERVED       Hospice and Palliative Care Treatment Preferences  100.0     None  10/01/2022-09/30/2023        10/01/2022       09/30/2023\n",
       "2  001500  AGAVE HOSPICE  3240 EAST UNION HILLS DRIVE SUITE 145 ROOM A           None   PHOENIX    AZ     85050      Maricopa   (602) 855-3500           9  H_002_01_DENOMINATOR                                                    None    136     None  10/01/2022-09/30/2023        10/01/2022       09/30/2023\n",
       "3  001500  AGAVE HOSPICE  3240 EAST UNION HILLS DRIVE SUITE 145 ROOM A           None   PHOENIX    AZ     85050      Maricopa   (602) 855-3500           9     H_002_01_OBSERVED  Beliefs & Values Addressed (if desired by the patient)  100.0     None  10/01/2022-09/30/2023        10/01/2022       09/30/2023\n",
       "4  001500  AGAVE HOSPICE  3240 EAST UNION HILLS DRIVE SUITE 145 ROOM A           None   PHOENIX    AZ     85050      Maricopa   (602) 855-3500           9  H_003_01_DENOMINATOR                                                    None    136     None  10/01/2022-09/30/2023        10/01/2022       09/30/2023"
      ]
     },
     "metadata": {},
     "output_type": "display_data"
    }
   ],
   "source": [
    "# Query the database\n",
    "stg_hospice_provider_df = con.execute(\"SELECT * FROM stg_hospice_provider limit 5\").df()\n",
    "\n",
    "# Display the dataframe\n",
    "display(stg_hospice_provider_df)"
   ]
  },
  {
   "cell_type": "markdown",
   "metadata": {},
   "source": [
    "### 1. Correlation Analysis: HIS Composite Process Metric & HCI Decile"
   ]
  },
  {
   "cell_type": "markdown",
   "metadata": {},
   "source": [
    "#### load fact_hospice_provider_flattened to a df"
   ]
  },
  {
   "cell_type": "code",
   "execution_count": 4,
   "metadata": {},
   "outputs": [
    {
     "name": "stdout",
     "output_type": "stream",
     "text": [
      "Index(['ccn', 'cms_region', 'h_008_01_observed_score', 'h_012_00_observed_score', 'h_008_01_observed_footnote', 'h_012_00_observed_footnote'], dtype='object')\n"
     ]
    }
   ],
   "source": [
    "fact_hospice_provider_flattened_df = con.execute(\"SELECT * FROM fact_hospice_provider_flattened\").df()\n",
    "print(fact_hospice_provider_flattened_df.columns)"
   ]
  },
  {
   "cell_type": "code",
   "execution_count": 20,
   "metadata": {},
   "outputs": [
    {
     "data": {
      "image/png": "[encoded data removed]",
      "text/plain": [
       "<Figure size 1200x600 with 2 Axes>"
      ]
     },
     "metadata": {},
     "output_type": "display_data"
    }
   ],
   "source": [
    "# configure subplots\n",
    "fig, axes = plt.subplots(1, 2, figsize=(12, 6))\n",
    "\n",
    "# HIS Composite Measure plot\n",
    "sns.histplot(data=fact_hospice_provider_flattened_df, x=\"h_008_01_observed_score\", kde=True, ax=axes[0])\n",
    "axes[0].set_title('Distribution of HIS Composite Measure')\n",
    "\n",
    "# HCI Decile plot\n",
    "sns.histplot(data=fact_hospice_provider_flattened_df, x=\"h_012_00_observed_score\", kde=True, ax=axes[1])\n",
    "axes[1].set_title('Distribution of HCI Decile')\n",
    "\n",
    "# show plots\n",
    "plt.tight_layout()\n",
    "plt.show()"
   ]
  },
  {
   "cell_type": "code",
   "execution_count": 16,
   "metadata": {},
   "outputs": [
    {
     "name": "stdout",
     "output_type": "stream",
     "text": [
      "Correlation Matrix: Pearson\n",
      "                         h_008_01_observed_score  h_012_00_observed_score\n",
      "h_008_01_observed_score                 1.000000                 0.223246\n",
      "h_012_00_observed_score                 0.223246                 1.000000\n"
     ]
    }
   ],
   "source": [
    "# Pearson correlation\n",
    "correlation_pearson = fact_hospice_provider_flattened_df[['h_008_01_observed_score', 'h_012_00_observed_score']].corr()\n",
    "\n",
    "print(\"Correlation Matrix: Pearson\")\n",
    "print(correlation_pearson)"
   ]
  },
  {
   "cell_type": "code",
   "execution_count": 18,
   "metadata": {},
   "outputs": [
    {
     "name": "stdout",
     "output_type": "stream",
     "text": [
      "Correlation Matrix: Spearman:\n",
      "                         h_008_01_observed_score  h_012_00_observed_score\n",
      "h_008_01_observed_score                 1.000000                 0.227345\n",
      "h_012_00_observed_score                 0.227345                 1.000000\n"
     ]
    }
   ],
   "source": [
    "# Spearman correlation\n",
    "correlation_spearman = fact_hospice_provider_flattened_df[['h_008_01_observed_score', 'h_012_00_observed_score']].corr(method='spearman')\n",
    "\n",
    "print(\"Correlation Matrix: Spearman:\")\n",
    "print(correlation_spearman)"
   ]
  },
  {
   "cell_type": "code",
   "execution_count": 21,
   "metadata": {},
   "outputs": [
    {
     "name": "stdout",
     "output_type": "stream",
     "text": [
      "                                    h_008_01_observed_score  h_012_00_observed_score\n",
      "cms_region                                                                          \n",
      "1          h_008_01_observed_score                 1.000000                 0.174107\n",
      "           h_012_00_observed_score                 0.174107                 1.000000\n",
      "2          h_008_01_observed_score                 1.000000                 0.205653\n",
      "           h_012_00_observed_score                 0.205653                 1.000000\n",
      "3          h_008_01_observed_score                 1.000000                 0.253217\n",
      "           h_012_00_observed_score                 0.253217                 1.000000\n",
      "4          h_008_01_observed_score                 1.000000                 0.044258\n",
      "           h_012_00_observed_score                 0.044258                 1.000000\n",
      "5          h_008_01_observed_score                 1.000000                 0.155562\n",
      "           h_012_00_observed_score                 0.155562                 1.000000\n",
      "6          h_008_01_observed_score                 1.000000                 0.231899\n",
      "           h_012_00_observed_score                 0.231899                 1.000000\n",
      "7          h_008_01_observed_score                 1.000000                 0.165660\n",
      "           h_012_00_observed_score                 0.165660                 1.000000\n",
      "8          h_008_01_observed_score                 1.000000                 0.175066\n",
      "           h_012_00_observed_score                 0.175066                 1.000000\n",
      "9          h_008_01_observed_score                 1.000000                 0.195625\n",
      "           h_012_00_observed_score                 0.195625                 1.000000\n",
      "10         h_008_01_observed_score                 1.000000                 0.284940\n",
      "           h_012_00_observed_score                 0.284940                 1.000000\n"
     ]
    }
   ],
   "source": [
    "correlation_spearman_by_region = fact_hospice_provider_flattened_df.groupby('cms_region')[\n",
    "    ['h_008_01_observed_score', 'h_012_00_observed_score']\n",
    "].corr(method='spearman')\n",
    "\n",
    "print(correlation_spearman_by_region)"
   ]
  },
  {
   "cell_type": "code",
   "execution_count": 53,
   "metadata": {},
   "outputs": [],
   "source": [
    "con.close()"
   ]
  },
  {
   "cell_type": "markdown",
   "metadata": {},
   "source": []
  }
 ],
 "metadata": {
  "kernelspec": {
   "display_name": "Python 3",
   "language": "python",
   "name": "python3"
  },
  "language_info": {
   "codemirror_mode": {
    "name": "ipython",
    "version": 3
   },
   "file_extension": ".py",
   "mimetype": "text/x-python",
   "name": "python",
   "nbconvert_exporter": "python",
   "pygments_lexer": "ipython3",
   "version": "3.12.6"
  }
 },
 "nbformat": 4,
 "nbformat_minor": 2
}

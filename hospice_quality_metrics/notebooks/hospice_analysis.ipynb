{
 "cells": [
  {
   "cell_type": "markdown",
   "metadata": {},
   "source": [
    "# Tuesday Health: Hospice Quality Metrics Technical Assessment\n",
    "Author: Kyle Biron  "
   ]
  },
  {
   "cell_type": "code",
   "execution_count": null,
   "metadata": {},
   "outputs": [],
   "source": [
    "import duckdb\n",
    "import numpy\n",
    "import pandas as pd\n",
    "from pprint import pprint\n",
    "\n",
    "# configure pandas to show full string values and all rows/columns\n",
    "pd.set_option('display.max_colwidth', None)\n",
    "pd.set_option('display.max_rows', None)\n",
    "pd.set_option('display.max_columns', None)\n",
    "pd.set_option('display.width', 1000)\n",
    "\n",
    "# set duckdb directory path\n",
    "db_dir = \"/Users/kyle/Documents/personal_projects/repos/kyle-tuesday-health-tech-assignment/hospice_quality_metrics/db\"\n",
    "\n",
    "# connect to an existing duckdb database\n",
    "con = duckdb.connect(f'{db_dir}/hospice_quality_metrics.db')\n",
    "\n",
    "# list and print all tables in the connected duckdb database\n",
    "tables = con.execute(\"SHOW TABLES\").df()\n",
    "print(tables)"
   ]
  },
  {
   "cell_type": "code",
   "execution_count": null,
   "metadata": {},
   "outputs": [],
   "source": [
    "# Query the database\n",
    "stg_hospice_provider_df = con.execute(\"SELECT * FROM stg_hospice_provider limit 5\").df()\n",
    "\n",
    "# Display the dataframe\n",
    "display(stg_hospice_provider_df)"
   ]
  },
  {
   "cell_type": "code",
   "execution_count": null,
   "metadata": {},
   "outputs": [],
   "source": [
    "con.execute(\"SELECT distinct measure_name FROM stg_hospice_provider\").df()"
   ]
  },
  {
   "cell_type": "code",
   "execution_count": null,
   "metadata": {},
   "outputs": [],
   "source": [
    "con.execute(\"SELECT *  FROM stg_hospice_provider where measure_name = 'Per-beneficiary spending (U.S. dollars $)' limit 5\").df()\n",
    "\n",
    "\n"
   ]
  },
  {
   "cell_type": "code",
   "execution_count": 20,
   "metadata": {},
   "outputs": [],
   "source": [
    "con.close()"
   ]
  },
  {
   "cell_type": "code",
   "execution_count": null,
   "metadata": {},
   "outputs": [],
   "source": []
  }
 ],
 "metadata": {
  "kernelspec": {
   "display_name": "Python 3",
   "language": "python",
   "name": "python3"
  },
  "language_info": {
   "codemirror_mode": {
    "name": "ipython",
    "version": 3
   },
   "file_extension": ".py",
   "mimetype": "text/x-python",
   "name": "python",
   "nbconvert_exporter": "python",
   "pygments_lexer": "ipython3",
   "version": "3.12.6"
  }
 },
 "nbformat": 4,
 "nbformat_minor": 2
}
